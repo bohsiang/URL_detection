{
  "nbformat": 4,
  "nbformat_minor": 0,
  "metadata": {
    "kernelspec": {
      "name": "python3",
      "display_name": "Python 3"
    },
    "language_info": {
      "pygments_lexer": "ipython3",
      "nbconvert_exporter": "python",
      "version": "3.6.4",
      "file_extension": ".py",
      "codemirror_mode": {
        "name": "ipython",
        "version": 3
      },
      "name": "python",
      "mimetype": "text/x-python"
    },
    "colab": {
      "name": "CNN_Malicious_URL.ipynb",
      "provenance": [],
      "collapsed_sections": [],
      "include_colab_link": true
    },
    "accelerator": "GPU"
  },
  "cells": [
    {
      "cell_type": "markdown",
      "metadata": {
        "id": "view-in-github",
        "colab_type": "text"
      },
      "source": [
        "<a href=\"https://colab.research.google.com/github/bohsiang/URL_detection/blob/master/CNN_Malicious_URL.ipynb\" target=\"_parent\"><img src=\"https://colab.research.google.com/assets/colab-badge.svg\" alt=\"Open In Colab\"/></a>"
      ]
    },
    {
      "cell_type": "code",
      "metadata": {
        "_uuid": "8f2839f25d086af736a60e9eeb907d3b93b6e0e5",
        "_cell_guid": "b1076dfc-b9ad-4769-8c92-a6c4dae69d19",
        "trusted": true,
        "id": "aFJPah22Tjlg",
        "colab_type": "code",
        "outputId": "671bad7a-1ff9-43da-f309-a063371d9960",
        "colab": {
          "base_uri": "https://localhost:8080/",
          "height": 122
        }
      },
      "source": [
        "from google.colab import drive\n",
        "drive.mount('/content/drive')\n",
        "# login and enter the Authorization code\n",
        "# 登入並且輸入授權碼"
      ],
      "execution_count": 0,
      "outputs": [
        {
          "output_type": "stream",
          "text": [
            "Go to this URL in a browser: https://accounts.google.com/o/oauth2/auth?client_id=947318989803-6bn6qk8qdgf4n4g3pfee6491hc0brc4i.apps.googleusercontent.com&redirect_uri=urn%3aietf%3awg%3aoauth%3a2.0%3aoob&response_type=code&scope=email%20https%3a%2f%2fwww.googleapis.com%2fauth%2fdocs.test%20https%3a%2f%2fwww.googleapis.com%2fauth%2fdrive%20https%3a%2f%2fwww.googleapis.com%2fauth%2fdrive.photos.readonly%20https%3a%2f%2fwww.googleapis.com%2fauth%2fpeopleapi.readonly\n",
            "\n",
            "Enter your authorization code:\n",
            "··········\n",
            "Mounted at /content/drive\n"
          ],
          "name": "stdout"
        }
      ]
    },
    {
      "cell_type": "markdown",
      "metadata": {
        "id": "gsAtOAi6Tjlm",
        "colab_type": "text"
      },
      "source": [
        "# Include data"
      ]
    },
    {
      "cell_type": "code",
      "metadata": {
        "_cell_guid": "",
        "_uuid": "",
        "trusted": true,
        "id": "134DtEQNTjln",
        "colab_type": "code",
        "colab": {}
      },
      "source": [
        "import pandas as pd\n",
        "train_data = pd.read_csv(\"/content/drive/My Drive/wnec_homework/data.csv\")"
      ],
      "execution_count": 0,
      "outputs": []
    },
    {
      "cell_type": "code",
      "metadata": {
        "trusted": true,
        "id": "oIsl4Eq6Tjlq",
        "colab_type": "code",
        "outputId": "34bf7dd8-77bc-42b5-fba4-b416ff52f345",
        "colab": {
          "base_uri": "https://localhost:8080/",
          "height": 419
        }
      },
      "source": [
        "train_data"
      ],
      "execution_count": 0,
      "outputs": [
        {
          "output_type": "execute_result",
          "data": {
            "text/html": [
              "<div>\n",
              "<style scoped>\n",
              "    .dataframe tbody tr th:only-of-type {\n",
              "        vertical-align: middle;\n",
              "    }\n",
              "\n",
              "    .dataframe tbody tr th {\n",
              "        vertical-align: top;\n",
              "    }\n",
              "\n",
              "    .dataframe thead th {\n",
              "        text-align: right;\n",
              "    }\n",
              "</style>\n",
              "<table border=\"1\" class=\"dataframe\">\n",
              "  <thead>\n",
              "    <tr style=\"text-align: right;\">\n",
              "      <th></th>\n",
              "      <th>url</th>\n",
              "      <th>label</th>\n",
              "    </tr>\n",
              "  </thead>\n",
              "  <tbody>\n",
              "    <tr>\n",
              "      <th>0</th>\n",
              "      <td>diaryofagameaddict.com</td>\n",
              "      <td>bad</td>\n",
              "    </tr>\n",
              "    <tr>\n",
              "      <th>1</th>\n",
              "      <td>espdesign.com.au</td>\n",
              "      <td>bad</td>\n",
              "    </tr>\n",
              "    <tr>\n",
              "      <th>2</th>\n",
              "      <td>iamagameaddict.com</td>\n",
              "      <td>bad</td>\n",
              "    </tr>\n",
              "    <tr>\n",
              "      <th>3</th>\n",
              "      <td>kalantzis.net</td>\n",
              "      <td>bad</td>\n",
              "    </tr>\n",
              "    <tr>\n",
              "      <th>4</th>\n",
              "      <td>slightlyoffcenter.net</td>\n",
              "      <td>bad</td>\n",
              "    </tr>\n",
              "    <tr>\n",
              "      <th>...</th>\n",
              "      <td>...</td>\n",
              "      <td>...</td>\n",
              "    </tr>\n",
              "    <tr>\n",
              "      <th>420459</th>\n",
              "      <td>23.227.196.215/</td>\n",
              "      <td>bad</td>\n",
              "    </tr>\n",
              "    <tr>\n",
              "      <th>420460</th>\n",
              "      <td>apple-checker.org/</td>\n",
              "      <td>bad</td>\n",
              "    </tr>\n",
              "    <tr>\n",
              "      <th>420461</th>\n",
              "      <td>apple-iclods.org/</td>\n",
              "      <td>bad</td>\n",
              "    </tr>\n",
              "    <tr>\n",
              "      <th>420462</th>\n",
              "      <td>apple-uptoday.org/</td>\n",
              "      <td>bad</td>\n",
              "    </tr>\n",
              "    <tr>\n",
              "      <th>420463</th>\n",
              "      <td>apple-search.info</td>\n",
              "      <td>bad</td>\n",
              "    </tr>\n",
              "  </tbody>\n",
              "</table>\n",
              "<p>420464 rows × 2 columns</p>\n",
              "</div>"
            ],
            "text/plain": [
              "                           url label\n",
              "0       diaryofagameaddict.com   bad\n",
              "1             espdesign.com.au   bad\n",
              "2           iamagameaddict.com   bad\n",
              "3                kalantzis.net   bad\n",
              "4        slightlyoffcenter.net   bad\n",
              "...                        ...   ...\n",
              "420459         23.227.196.215/   bad\n",
              "420460      apple-checker.org/   bad\n",
              "420461       apple-iclods.org/   bad\n",
              "420462      apple-uptoday.org/   bad\n",
              "420463       apple-search.info   bad\n",
              "\n",
              "[420464 rows x 2 columns]"
            ]
          },
          "metadata": {
            "tags": []
          },
          "execution_count": 3
        }
      ]
    },
    {
      "cell_type": "code",
      "metadata": {
        "trusted": true,
        "id": "GtQzYGXoTjlt",
        "colab_type": "code",
        "colab": {}
      },
      "source": [
        "train_data['label'] = train_data['label'].replace({'bad': 1,'good':0})"
      ],
      "execution_count": 0,
      "outputs": []
    },
    {
      "cell_type": "code",
      "metadata": {
        "trusted": true,
        "id": "d3W7aQWGTjlw",
        "colab_type": "code",
        "outputId": "efe025b3-900a-46ac-fee8-74d1968207d8",
        "colab": {
          "base_uri": "https://localhost:8080/",
          "height": 68
        }
      },
      "source": [
        "train_data['label'].value_counts()"
      ],
      "execution_count": 0,
      "outputs": [
        {
          "output_type": "execute_result",
          "data": {
            "text/plain": [
              "0    344821\n",
              "1     75643\n",
              "Name: label, dtype: int64"
            ]
          },
          "metadata": {
            "tags": []
          },
          "execution_count": 5
        }
      ]
    },
    {
      "cell_type": "markdown",
      "metadata": {
        "id": "IJ8Gdjh6Tjlz",
        "colab_type": "text"
      },
      "source": [
        "# Visual Length"
      ]
    },
    {
      "cell_type": "code",
      "metadata": {
        "trusted": true,
        "id": "A-6jgyAATjlz",
        "colab_type": "code",
        "outputId": "99e62146-7307-45ed-b60e-7201dfdc4aa8",
        "colab": {
          "base_uri": "https://localhost:8080/",
          "height": 282
        }
      },
      "source": [
        "import matplotlib.pyplot as plt\n",
        "length = pd.value_counts(train_data['url'].str.len(), sort=False)\n",
        "length = length.sort_index()\n",
        "plt.bar(length.index,length.values)"
      ],
      "execution_count": 0,
      "outputs": [
        {
          "output_type": "execute_result",
          "data": {
            "text/plain": [
              "<BarContainer object of 530 artists>"
            ]
          },
          "metadata": {
            "tags": []
          },
          "execution_count": 6
        },
        {
          "output_type": "display_data",
          "data": {
            "image/png": "[encoded data removed]",
            "text/plain": [
              "<Figure size 432x288 with 1 Axes>"
            ]
          },
          "metadata": {
            "tags": []
          }
        }
      ]
    },
    {
      "cell_type": "code",
      "metadata": {
        "trusted": true,
        "id": "oY4-_zaYTjl2",
        "colab_type": "code",
        "outputId": "9f83f020-fbce-4207-f6ee-e6b197ba9932",
        "colab": {
          "base_uri": "https://localhost:8080/",
          "height": 282
        }
      },
      "source": [
        "plt.bar(length.index[:200],length.values[:200])"
      ],
      "execution_count": 0,
      "outputs": [
        {
          "output_type": "execute_result",
          "data": {
            "text/plain": [
              "<BarContainer object of 200 artists>"
            ]
          },
          "metadata": {
            "tags": []
          },
          "execution_count": 7
        },
        {
          "output_type": "display_data",
          "data": {
            "image/png": "[encoded data removed]",
            "text/plain": [
              "<Figure size 432x288 with 1 Axes>"
            ]
          },
          "metadata": {
            "tags": []
          }
        }
      ]
    },
    {
      "cell_type": "markdown",
      "metadata": {
        "id": "-7dCo17BTjl5",
        "colab_type": "text"
      },
      "source": [
        "# Encoding URL"
      ]
    },
    {
      "cell_type": "code",
      "metadata": {
        "trusted": true,
        "id": "OIeNg8PlTjl6",
        "colab_type": "code",
        "outputId": "7ae164a2-d441-4516-8e4e-ce8e3fdd633c",
        "colab": {
          "base_uri": "https://localhost:8080/",
          "height": 114
        }
      },
      "source": [
        "from keras.preprocessing.text import Tokenizer\n",
        "from keras.preprocessing.sequence import pad_sequences\n",
        "\n",
        "texts = train_data['url']\n",
        "labels = train_data['label'] \n",
        "\n",
        "tk = Tokenizer(char_level=True,oov_token='UNK',filters='')\n",
        "#tk = Tokenizer(num_words=128,char_level=True,oov_token='UNK',filters='')\n",
        "#tk = Tokenizer(oov_token='UNK',filters='./')\n",
        "\n",
        "tk.fit_on_texts(texts)\n",
        "data = tk.texts_to_sequences(texts)\n",
        "print(data[0])\n",
        "print(texts[0])\n",
        "#data = pad_sequences(sequences, maxlen=50, padding='post')\n",
        "#print(data[0])"
      ],
      "execution_count": 0,
      "outputs": [
        {
          "output_type": "stream",
          "text": [
            "Using TensorFlow backend.\n"
          ],
          "name": "stderr"
        },
        {
          "output_type": "display_data",
          "data": {
            "text/html": [
              "<p style=\"color: red;\">\n",
              "The default version of TensorFlow in Colab will soon switch to TensorFlow 2.x.<br>\n",
              "We recommend you <a href=\"https://www.tensorflow.org/guide/migrate\" target=\"_blank\">upgrade</a> now \n",
              "or ensure your notebook will continue to use TensorFlow 1.x via the <code>%tensorflow_version 1.x</code> magic:\n",
              "<a href=\"https://colab.research.google.com/notebooks/tensorflow_version.ipynb\" target=\"_blank\">more info</a>.</p>\n"
            ],
            "text/plain": [
              "<IPython.core.display.HTML object>"
            ]
          },
          "metadata": {
            "tags": []
          }
        },
        {
          "output_type": "stream",
          "text": [
            "[16, 5, 4, 10, 23, 3, 22, 4, 20, 4, 12, 2, 4, 16, 16, 5, 8, 7, 14, 8, 3, 12]\n",
            "diaryofagameaddict.com\n"
          ],
          "name": "stdout"
        }
      ]
    },
    {
      "cell_type": "code",
      "metadata": {
        "id": "ZASx3GzUskne",
        "colab_type": "code",
        "outputId": "36f72a44-7908-47fb-aad8-bce55aac8eb3",
        "colab": {
          "base_uri": "https://localhost:8080/",
          "height": 54
        }
      },
      "source": [
        "print(tk.word_index)"
      ],
      "execution_count": 0,
      "outputs": [
        {
          "output_type": "stream",
          "text": [
            "{'UNK': 1, 'e': 2, 'o': 3, 'a': 4, 'i': 5, '/': 6, 't': 7, 'c': 8, 's': 9, 'r': 10, 'n': 11, 'm': 12, 'l': 13, '.': 14, '-': 15, 'd': 16, 'p': 17, 'h': 18, 'u': 19, 'g': 20, 'b': 21, 'f': 22, 'y': 23, 'w': 24, '0': 25, '1': 26, 'k': 27, '2': 28, '_': 29, 'v': 30, '3': 31, '4': 32, '9': 33, '5': 34, '8': 35, '6': 36, '7': 37, 'x': 38, '=': 39, 'j': 40, 'z': 41, '?': 42, 'q': 43, '&': 44, '%': 45, '+': 46, ';': 47, ':': 48, '(': 49, ')': 50, '~': 51, '@': 52, '\\\\': 53, \"'\": 54, ',': 55, ' ': 56, '!': 57, '#': 58, 'é': 59, '>': 60, '<': 61, '|': 62, '$': 63, '\\u200a': 64, '*': 65, ']': 66, '[': 67, '}': 68, '{': 69, '–': 70, 'è': 71, '¿': 72, '½': 73, 'ç': 74, '’': 75, 'ï': 76, '`': 77, 'ã': 78, 'â': 79, 'ô': 80, '^': 81, 'י': 82, 'ó': 83, '®': 84, 'š': 85, 'à': 86, '”': 87, '“': 88, '©': 89, 'á': 90, 'í': 91, '\\xad': 92, '§': 93, 'î': 94, '‚': 95, 'ö': 96, 'ר': 97, 'ו': 98, 'ן': 99, 'ב': 100, '×': 101, 'æ': 102, 'ü': 103, 'ƒ': 104, 'ñ': 105, '¨': 106, '¹': 107, 'å': 108, '¤': 109, '\\x13': 110, 'û': 111, 'ê': 112, '´': 113, '—': 114, '°': 115, '\"': 116, 'ה': 117, 'ג': 118, 'ת': 119, 'ש': 120, 'ל': 121, 'ק': 122, 'צ': 123, 'ט': 124, 'ח': 125, 'כ': 126, '³': 127, '¡': 128, '¼': 129, 'þ': 130, '¸': 131, 'ò': 132, 'µ': 133, 'ª': 134, 'ë': 135, '™': 136, '‰': 137, '€': 138, '•': 139, 'ž': 140, '»': 141, 'ß': 142, 'ä': 143, '…': 144, '成': 145, '品': 146, '¢': 147, '\\xa0': 148}\n"
          ],
          "name": "stdout"
        }
      ]
    },
    {
      "cell_type": "code",
      "metadata": {
        "trusted": true,
        "id": "-BAXiGNfTjl8",
        "colab_type": "code",
        "colab": {}
      },
      "source": [
        "character = [i for i in tk.word_index]"
      ],
      "execution_count": 0,
      "outputs": []
    },
    {
      "cell_type": "code",
      "metadata": {
        "id": "J1Id8TneshjD",
        "colab_type": "code",
        "colab": {}
      },
      "source": [
        "#character"
      ],
      "execution_count": 0,
      "outputs": []
    },
    {
      "cell_type": "markdown",
      "metadata": {
        "id": "ar0c2q_6Tjl_",
        "colab_type": "text"
      },
      "source": [
        "# Split Data"
      ]
    },
    {
      "cell_type": "code",
      "metadata": {
        "trusted": true,
        "id": "PWGjaq89TjmB",
        "colab_type": "code",
        "colab": {}
      },
      "source": [
        "from sklearn.model_selection import train_test_split\n",
        "\n",
        "x_train, x_valid, y_train, y_valid = train_test_split(data, labels, test_size=0.2, shuffle= True,random_state=2020)\n",
        "x_valid, x_test, y_valid, y_test = train_test_split(x_valid, y_valid, test_size=0.5, shuffle= True,random_state=2020)"
      ],
      "execution_count": 0,
      "outputs": []
    },
    {
      "cell_type": "markdown",
      "metadata": {
        "id": "HOBFfsEwTjmD",
        "colab_type": "text"
      },
      "source": [
        "# Model Setting"
      ]
    },
    {
      "cell_type": "code",
      "metadata": {
        "trusted": true,
        "id": "JLxavw6gTjmE",
        "colab_type": "code",
        "outputId": "ea56cdf2-f4da-4efe-d8c8-2ea0b06fe78d",
        "colab": {
          "base_uri": "https://localhost:8080/",
          "height": 136
        }
      },
      "source": [
        "from __future__ import print_function\n",
        "\n",
        "from keras.preprocessing import sequence\n",
        "from keras.models import Sequential\n",
        "from keras.layers import Dense, Dropout, Activation, Flatten\n",
        "from keras.layers import Embedding\n",
        "from keras.layers import LSTM\n",
        "from keras.layers import Conv1D, MaxPooling1D\n",
        "from keras.datasets import imdb\n",
        "from keras.layers.normalization import BatchNormalization\n",
        "\n",
        "\n",
        "# Embedding\n",
        "max_features = 256\n",
        "maxlen = 200\n",
        "embedding_size = 32\n",
        "\n",
        "# Convolution\n",
        "kernel_size = 7\n",
        "filters = 256\n",
        "pool_size = 3\n",
        "\n",
        "# LSTM\n",
        "lstm_output_size = 70\n",
        "\n",
        "# Training\n",
        "batch_size = 1024\n",
        "epochs = 10\n",
        "\n",
        "\n",
        "print(len(x_train), 'train sequences')\n",
        "print(len(x_valid), 'valid sequences')\n",
        "\n",
        "print('Pad sequences (samples x time)')\n",
        "x_train = sequence.pad_sequences(x_train, maxlen=maxlen, padding='post')\n",
        "x_valid = sequence.pad_sequences(x_valid, maxlen=maxlen, padding='post')\n",
        "x_test = sequence.pad_sequences(x_test, maxlen=maxlen, padding='post')\n",
        "print('x_train shape:', x_train.shape)\n",
        "print('x_valid shape:', x_valid.shape)\n",
        "print('x_test shape:', x_test.shape)\n",
        "\n",
        "print('Build model...')\n",
        "\n"
      ],
      "execution_count": 0,
      "outputs": [
        {
          "output_type": "stream",
          "text": [
            "336371 train sequences\n",
            "42046 valid sequences\n",
            "Pad sequences (samples x time)\n",
            "x_train shape: (336371, 200)\n",
            "x_valid shape: (42046, 200)\n",
            "x_test shape: (42047, 200)\n",
            "Build model...\n"
          ],
          "name": "stdout"
        }
      ]
    },
    {
      "cell_type": "code",
      "metadata": {
        "trusted": true,
        "id": "-SYN32PVTjmG",
        "colab_type": "code",
        "colab": {}
      },
      "source": [
        "def model_selection(model_type):\n",
        "  model = Sequential()\n",
        "  model.add(Embedding(max_features, embedding_size, input_length=maxlen))\n",
        "\n",
        "  model.add(Conv1D(filters,kernel_size,padding='valid',activation='relu',strides=1))\n",
        "  model.add(BatchNormalization())\n",
        "  model.add(MaxPooling1D(pool_size=pool_size))\n",
        "  model.add(Dropout(0.5))\n",
        "\n",
        "  if model_type == \"LSTM\":\n",
        "    model.add(LSTM(64))\n",
        "    model.add(BatchNormalization())\n",
        "    model.add(Dropout(0.5))\n",
        "  else:\n",
        "    model.add(Flatten())\n",
        "    model.add(Dense(256,activation='sigmoid'))\n",
        "    model.add(BatchNormalization())\n",
        "    model.add(Dropout(0.5))\n",
        "  model.add(Dense(1,activation='sigmoid'))\n",
        "\n",
        "  model.compile(loss='binary_crossentropy',optimizer='adam',metrics=['accuracy'])\n",
        "  model.summary()\n",
        "  return model"
      ],
      "execution_count": 0,
      "outputs": []
    },
    {
      "cell_type": "code",
      "metadata": {
        "trusted": true,
        "id": "wGl3F_etTjmI",
        "colab_type": "code",
        "outputId": "76c93e20-5551-40a1-e96c-4d2112abc973",
        "colab": {
          "base_uri": "https://localhost:8080/",
          "height": 1000
        }
      },
      "source": [
        "%%time\n",
        "print('Train...')\n",
        "model_NN = model_selection(\"NN\")\n",
        "history_dnn = model_NN.fit(x_train, y_train, batch_size=batch_size, epochs=epochs, validation_data=(x_valid, y_valid))"
      ],
      "execution_count": 0,
      "outputs": [
        {
          "output_type": "stream",
          "text": [
            "Train...\n",
            "WARNING:tensorflow:From /usr/local/lib/python3.6/dist-packages/keras/backend/tensorflow_backend.py:66: The name tf.get_default_graph is deprecated. Please use tf.compat.v1.get_default_graph instead.\n",
            "\n",
            "WARNING:tensorflow:From /usr/local/lib/python3.6/dist-packages/keras/backend/tensorflow_backend.py:541: The name tf.placeholder is deprecated. Please use tf.compat.v1.placeholder instead.\n",
            "\n",
            "WARNING:tensorflow:From /usr/local/lib/python3.6/dist-packages/keras/backend/tensorflow_backend.py:4432: The name tf.random_uniform is deprecated. Please use tf.random.uniform instead.\n",
            "\n",
            "WARNING:tensorflow:From /usr/local/lib/python3.6/dist-packages/keras/backend/tensorflow_backend.py:148: The name tf.placeholder_with_default is deprecated. Please use tf.compat.v1.placeholder_with_default instead.\n",
            "\n",
            "WARNING:tensorflow:From /usr/local/lib/python3.6/dist-packages/keras/backend/tensorflow_backend.py:4267: The name tf.nn.max_pool is deprecated. Please use tf.nn.max_pool2d instead.\n",
            "\n",
            "WARNING:tensorflow:From /usr/local/lib/python3.6/dist-packages/keras/backend/tensorflow_backend.py:3733: calling dropout (from tensorflow.python.ops.nn_ops) with keep_prob is deprecated and will be removed in a future version.\n",
            "Instructions for updating:\n",
            "Please use `rate` instead of `keep_prob`. Rate should be set to `rate = 1 - keep_prob`.\n",
            "WARNING:tensorflow:From /usr/local/lib/python3.6/dist-packages/keras/optimizers.py:793: The name tf.train.Optimizer is deprecated. Please use tf.compat.v1.train.Optimizer instead.\n",
            "\n",
            "WARNING:tensorflow:From /usr/local/lib/python3.6/dist-packages/keras/backend/tensorflow_backend.py:3657: The name tf.log is deprecated. Please use tf.math.log instead.\n",
            "\n",
            "WARNING:tensorflow:From /usr/local/lib/python3.6/dist-packages/tensorflow_core/python/ops/nn_impl.py:183: where (from tensorflow.python.ops.array_ops) is deprecated and will be removed in a future version.\n",
            "Instructions for updating:\n",
            "Use tf.where in 2.0, which has the same broadcast rule as np.where\n",
            "Model: \"sequential_1\"\n",
            "_________________________________________________________________\n",
            "Layer (type)                 Output Shape              Param #   \n",
            "=================================================================\n",
            "embedding_1 (Embedding)      (None, 200, 32)           8192      \n",
            "_________________________________________________________________\n",
            "conv1d_1 (Conv1D)            (None, 194, 256)          57600     \n",
            "_________________________________________________________________\n",
            "batch_normalization_1 (Batch (None, 194, 256)          1024      \n",
            "_________________________________________________________________\n",
            "max_pooling1d_1 (MaxPooling1 (None, 64, 256)           0         \n",
            "_________________________________________________________________\n",
            "dropout_1 (Dropout)          (None, 64, 256)           0         \n",
            "_________________________________________________________________\n",
            "flatten_1 (Flatten)          (None, 16384)             0         \n",
            "_________________________________________________________________\n",
            "dense_1 (Dense)              (None, 256)               4194560   \n",
            "_________________________________________________________________\n",
            "batch_normalization_2 (Batch (None, 256)               1024      \n",
            "_________________________________________________________________\n",
            "dropout_2 (Dropout)          (None, 256)               0         \n",
            "_________________________________________________________________\n",
            "dense_2 (Dense)              (None, 1)                 257       \n",
            "=================================================================\n",
            "Total params: 4,262,657\n",
            "Trainable params: 4,261,633\n",
            "Non-trainable params: 1,024\n",
            "_________________________________________________________________\n",
            "WARNING:tensorflow:From /usr/local/lib/python3.6/dist-packages/keras/backend/tensorflow_backend.py:1033: The name tf.assign_add is deprecated. Please use tf.compat.v1.assign_add instead.\n",
            "\n",
            "WARNING:tensorflow:From /usr/local/lib/python3.6/dist-packages/keras/backend/tensorflow_backend.py:1020: The name tf.assign is deprecated. Please use tf.compat.v1.assign instead.\n",
            "\n",
            "WARNING:tensorflow:From /usr/local/lib/python3.6/dist-packages/keras/backend/tensorflow_backend.py:3005: The name tf.Session is deprecated. Please use tf.compat.v1.Session instead.\n",
            "\n",
            "Train on 336371 samples, validate on 42046 samples\n",
            "Epoch 1/10\n",
            "WARNING:tensorflow:From /usr/local/lib/python3.6/dist-packages/keras/backend/tensorflow_backend.py:190: The name tf.get_default_session is deprecated. Please use tf.compat.v1.get_default_session instead.\n",
            "\n",
            "WARNING:tensorflow:From /usr/local/lib/python3.6/dist-packages/keras/backend/tensorflow_backend.py:197: The name tf.ConfigProto is deprecated. Please use tf.compat.v1.ConfigProto instead.\n",
            "\n",
            "WARNING:tensorflow:From /usr/local/lib/python3.6/dist-packages/keras/backend/tensorflow_backend.py:207: The name tf.global_variables is deprecated. Please use tf.compat.v1.global_variables instead.\n",
            "\n",
            "WARNING:tensorflow:From /usr/local/lib/python3.6/dist-packages/keras/backend/tensorflow_backend.py:216: The name tf.is_variable_initialized is deprecated. Please use tf.compat.v1.is_variable_initialized instead.\n",
            "\n",
            "WARNING:tensorflow:From /usr/local/lib/python3.6/dist-packages/keras/backend/tensorflow_backend.py:223: The name tf.variables_initializer is deprecated. Please use tf.compat.v1.variables_initializer instead.\n",
            "\n",
            "336371/336371 [==============================] - 34s 100us/step - loss: 0.2773 - acc: 0.9161 - val_loss: 0.1160 - val_acc: 0.9614\n",
            "Epoch 2/10\n",
            "336371/336371 [==============================] - 19s 57us/step - loss: 0.1072 - acc: 0.9627 - val_loss: 0.0972 - val_acc: 0.9680\n",
            "Epoch 3/10\n",
            "336371/336371 [==============================] - 19s 56us/step - loss: 0.0860 - acc: 0.9709 - val_loss: 0.0739 - val_acc: 0.9766\n",
            "Epoch 4/10\n",
            "336371/336371 [==============================] - 19s 57us/step - loss: 0.0752 - acc: 0.9744 - val_loss: 0.0737 - val_acc: 0.9752\n",
            "Epoch 5/10\n",
            "336371/336371 [==============================] - 19s 56us/step - loss: 0.0677 - acc: 0.9770 - val_loss: 0.0635 - val_acc: 0.9800\n",
            "Epoch 6/10\n",
            "336371/336371 [==============================] - 19s 56us/step - loss: 0.0635 - acc: 0.9784 - val_loss: 0.0691 - val_acc: 0.9801\n",
            "Epoch 7/10\n",
            "336371/336371 [==============================] - 19s 56us/step - loss: 0.0582 - acc: 0.9803 - val_loss: 0.0607 - val_acc: 0.9800\n",
            "Epoch 8/10\n",
            "336371/336371 [==============================] - 19s 56us/step - loss: 0.0550 - acc: 0.9812 - val_loss: 0.0702 - val_acc: 0.9761\n",
            "Epoch 9/10\n",
            "336371/336371 [==============================] - 19s 55us/step - loss: 0.0513 - acc: 0.9826 - val_loss: 0.0807 - val_acc: 0.9710\n",
            "Epoch 10/10\n",
            "336371/336371 [==============================] - 19s 55us/step - loss: 0.0488 - acc: 0.9835 - val_loss: 0.0512 - val_acc: 0.9838\n",
            "CPU times: user 1min 52s, sys: 46.6 s, total: 2min 38s\n",
            "Wall time: 3min 24s\n"
          ],
          "name": "stdout"
        }
      ]
    },
    {
      "cell_type": "code",
      "metadata": {
        "id": "Z9nm7bF42ER0",
        "colab_type": "code",
        "outputId": "92e3ae4a-0e52-4e0b-8065-e510718733b9",
        "colab": {
          "base_uri": "https://localhost:8080/",
          "height": 867
        }
      },
      "source": [
        "%%time\n",
        "print('Train...')\n",
        "model_LSTM = model_selection(\"LSTM\")\n",
        "history_lstm = model_LSTM.fit(x_train, y_train, batch_size=batch_size, epochs=epochs, validation_data=(x_valid, y_valid))"
      ],
      "execution_count": 0,
      "outputs": [
        {
          "output_type": "stream",
          "text": [
            "Train...\n",
            "Model: \"sequential_2\"\n",
            "_________________________________________________________________\n",
            "Layer (type)                 Output Shape              Param #   \n",
            "=================================================================\n",
            "embedding_2 (Embedding)      (None, 200, 32)           8192      \n",
            "_________________________________________________________________\n",
            "conv1d_2 (Conv1D)            (None, 194, 256)          57600     \n",
            "_________________________________________________________________\n",
            "batch_normalization_3 (Batch (None, 194, 256)          1024      \n",
            "_________________________________________________________________\n",
            "max_pooling1d_2 (MaxPooling1 (None, 64, 256)           0         \n",
            "_________________________________________________________________\n",
            "dropout_3 (Dropout)          (None, 64, 256)           0         \n",
            "_________________________________________________________________\n",
            "lstm_1 (LSTM)                (None, 64)                82176     \n",
            "_________________________________________________________________\n",
            "batch_normalization_4 (Batch (None, 64)                256       \n",
            "_________________________________________________________________\n",
            "dropout_4 (Dropout)          (None, 64)                0         \n",
            "_________________________________________________________________\n",
            "dense_3 (Dense)              (None, 1)                 65        \n",
            "=================================================================\n",
            "Total params: 149,313\n",
            "Trainable params: 148,673\n",
            "Non-trainable params: 640\n",
            "_________________________________________________________________\n",
            "Train on 336371 samples, validate on 42046 samples\n",
            "Epoch 1/10\n",
            "336371/336371 [==============================] - 49s 147us/step - loss: 0.2700 - acc: 0.9026 - val_loss: 0.8352 - val_acc: 0.6409\n",
            "Epoch 2/10\n",
            "336371/336371 [==============================] - 48s 142us/step - loss: 0.1058 - acc: 0.9652 - val_loss: 0.0920 - val_acc: 0.9702\n",
            "Epoch 3/10\n",
            "336371/336371 [==============================] - 48s 142us/step - loss: 0.0891 - acc: 0.9709 - val_loss: 0.0867 - val_acc: 0.9707\n",
            "Epoch 4/10\n",
            "336371/336371 [==============================] - 49s 146us/step - loss: 0.0784 - acc: 0.9747 - val_loss: 0.0941 - val_acc: 0.9696\n",
            "Epoch 5/10\n",
            "336371/336371 [==============================] - 49s 145us/step - loss: 0.0704 - acc: 0.9772 - val_loss: 0.0656 - val_acc: 0.9801\n",
            "Epoch 6/10\n",
            "336371/336371 [==============================] - 48s 144us/step - loss: 0.0666 - acc: 0.9784 - val_loss: 0.0996 - val_acc: 0.9699\n",
            "Epoch 7/10\n",
            "336371/336371 [==============================] - 48s 142us/step - loss: 0.0645 - acc: 0.9791 - val_loss: 0.0537 - val_acc: 0.9830\n",
            "Epoch 8/10\n",
            "336371/336371 [==============================] - 48s 143us/step - loss: 0.0593 - acc: 0.9805 - val_loss: 0.0567 - val_acc: 0.9822\n",
            "Epoch 9/10\n",
            "336371/336371 [==============================] - 48s 142us/step - loss: 0.0558 - acc: 0.9821 - val_loss: 0.0668 - val_acc: 0.9808\n",
            "Epoch 10/10\n",
            "336371/336371 [==============================] - 48s 143us/step - loss: 0.0536 - acc: 0.9826 - val_loss: 0.0760 - val_acc: 0.9742\n",
            "CPU times: user 8min 32s, sys: 1min 8s, total: 9min 41s\n",
            "Wall time: 8min 4s\n"
          ],
          "name": "stdout"
        }
      ]
    },
    {
      "cell_type": "code",
      "metadata": {
        "id": "liTPXWpWND4P",
        "colab_type": "code",
        "outputId": "db9231ec-a178-42b9-da4a-9b24b5d14a59",
        "colab": {
          "base_uri": "https://localhost:8080/",
          "height": 199
        }
      },
      "source": [
        "score, acc = model_LSTM.evaluate(x_valid, y_valid, batch_size=batch_size)\n",
        "print('Test score:', score)\n",
        "print('Test accuracy:', acc)"
      ],
      "execution_count": 0,
      "outputs": [
        {
          "output_type": "error",
          "ename": "NameError",
          "evalue": "ignored",
          "traceback": [
            "\u001b[0;31m---------------------------------------------------------------------------\u001b[0m",
            "\u001b[0;31mNameError\u001b[0m                                 Traceback (most recent call last)",
            "\u001b[0;32m<ipython-input-17-0ac3315e2672>\u001b[0m in \u001b[0;36m<module>\u001b[0;34m()\u001b[0m\n\u001b[0;32m----> 1\u001b[0;31m \u001b[0mscore\u001b[0m\u001b[0;34m,\u001b[0m \u001b[0macc\u001b[0m \u001b[0;34m=\u001b[0m \u001b[0mmodel\u001b[0m\u001b[0;34m.\u001b[0m\u001b[0mevaluate\u001b[0m\u001b[0;34m(\u001b[0m\u001b[0mx_valid\u001b[0m\u001b[0;34m,\u001b[0m \u001b[0my_valid\u001b[0m\u001b[0;34m,\u001b[0m \u001b[0mbatch_size\u001b[0m\u001b[0;34m=\u001b[0m\u001b[0mbatch_size\u001b[0m\u001b[0;34m)\u001b[0m\u001b[0;34m\u001b[0m\u001b[0;34m\u001b[0m\u001b[0m\n\u001b[0m\u001b[1;32m      2\u001b[0m \u001b[0mprint\u001b[0m\u001b[0;34m(\u001b[0m\u001b[0;34m'Test score:'\u001b[0m\u001b[0;34m,\u001b[0m \u001b[0mscore\u001b[0m\u001b[0;34m)\u001b[0m\u001b[0;34m\u001b[0m\u001b[0;34m\u001b[0m\u001b[0m\n\u001b[1;32m      3\u001b[0m \u001b[0mprint\u001b[0m\u001b[0;34m(\u001b[0m\u001b[0;34m'Test accuracy:'\u001b[0m\u001b[0;34m,\u001b[0m \u001b[0macc\u001b[0m\u001b[0;34m)\u001b[0m\u001b[0;34m\u001b[0m\u001b[0;34m\u001b[0m\u001b[0m\n",
            "\u001b[0;31mNameError\u001b[0m: name 'model' is not defined"
          ]
        }
      ]
    },
    {
      "cell_type": "markdown",
      "metadata": {
        "id": "W99MeErrCcqE",
        "colab_type": "text"
      },
      "source": [
        "# predict"
      ]
    },
    {
      "cell_type": "code",
      "metadata": {
        "trusted": true,
        "id": "793_z25pTjmL",
        "colab_type": "code",
        "colab": {}
      },
      "source": [
        "y_pred_NN = model_NN.predict(x_test)\n",
        "y_pred_LSTN = model_LSTM.predict(x_test)"
      ],
      "execution_count": 0,
      "outputs": []
    },
    {
      "cell_type": "code",
      "metadata": {
        "id": "z-WHuPSapCdy",
        "colab_type": "code",
        "colab": {}
      },
      "source": [
        "y_pred_LSTM = [1 if i > 0.5  else 0 for i in y_pred_LSTM ]\n",
        "y_pred_NN = [1 if i > 0.5  else 0 for i in y_pred_NN ]"
      ],
      "execution_count": 0,
      "outputs": []
    },
    {
      "cell_type": "markdown",
      "metadata": {
        "trusted": true,
        "id": "xO4t49mCTjmO",
        "colab_type": "text"
      },
      "source": [
        "\n",
        "# Print Learning Curve"
      ]
    },
    {
      "cell_type": "code",
      "metadata": {
        "trusted": true,
        "id": "_wTyQvMyTjmO",
        "colab_type": "code",
        "colab": {}
      },
      "source": [
        "import matplotlib.pyplot as plt\n",
        "def learning_curve(model_history,model_name):\n",
        "  plt.plot(model_history.history['acc'])\n",
        "  plt.plot(model_history.history['val_acc'])\n",
        "  plt.title(model_name + ' model accuracy')\n",
        "  plt.ylabel('accuracy')\n",
        "  plt.xlabel('epoch')\n",
        "  plt.legend(['train', 'valid'], loc='upper left')\n",
        "  plt.show()\n",
        "  # summarize history for loss\n",
        "  plt.plot(model_history.history['loss'])\n",
        "  plt.plot(model_history.history['val_loss'])\n",
        "  plt.title(model_name + ' model loss')\n",
        "  plt.ylabel('loss')\n",
        "  plt.xlabel('epoch')\n",
        "  plt.legend(['train', 'valid'], loc='upper left')\n",
        "  plt.show()"
      ],
      "execution_count": 0,
      "outputs": []
    },
    {
      "cell_type": "code",
      "metadata": {
        "id": "hTdgebRz2w_m",
        "colab_type": "code",
        "outputId": "f89f0f7b-22c9-497f-8305-8498276b6144",
        "colab": {
          "base_uri": "https://localhost:8080/",
          "height": 573
        }
      },
      "source": [
        "learning_curve(history_lstm,\"LSTM\")"
      ],
      "execution_count": 0,
      "outputs": [
        {
          "output_type": "display_data",
          "data": {
            "image/png": "[encoded data removed]",
            "text/plain": [
              "<Figure size 432x288 with 1 Axes>"
            ]
          },
          "metadata": {
            "tags": []
          }
        },
        {
          "output_type": "display_data",
          "data": {
            "image/png": "[encoded data removed]",
            "text/plain": [
              "<Figure size 432x288 with 1 Axes>"
            ]
          },
          "metadata": {
            "tags": []
          }
        }
      ]
    },
    {
      "cell_type": "code",
      "metadata": {
        "id": "27uISeif23VJ",
        "colab_type": "code",
        "outputId": "c578b46e-ae86-4cb7-a00e-a6f23f0d0c13",
        "colab": {
          "base_uri": "https://localhost:8080/",
          "height": 573
        }
      },
      "source": [
        "learning_curve(history_dnn,\"DNN\")"
      ],
      "execution_count": 0,
      "outputs": [
        {
          "output_type": "display_data",
          "data": {
            "image/png": "[encoded data removed]",
            "text/plain": [
              "<Figure size 432x288 with 1 Axes>"
            ]
          },
          "metadata": {
            "tags": []
          }
        },
        {
          "output_type": "display_data",
          "data": {
            "image/png": "[encoded data removed]",
            "text/plain": [
              "<Figure size 432x288 with 1 Axes>"
            ]
          },
          "metadata": {
            "tags": []
          }
        }
      ]
    },
    {
      "cell_type": "markdown",
      "metadata": {
        "id": "vzJn641ETjmR",
        "colab_type": "text"
      },
      "source": [
        "# Word embedding visualization"
      ]
    },
    {
      "cell_type": "code",
      "metadata": {
        "id": "UjTxkXwKU-rp",
        "colab_type": "code",
        "colab": {}
      },
      "source": [
        "e = model.layers[0]\n",
        "weights = e.get_weights()[0]\n",
        "print(weights.shape) # shape: (vocab_size, embedding_dim)"
      ],
      "execution_count": 0,
      "outputs": []
    },
    {
      "cell_type": "markdown",
      "metadata": {
        "id": "fMQ65M9OoupA",
        "colab_type": "text"
      },
      "source": [
        "We will now write the weights to disk. To use the [Embedding Projector](http://projector.tensorflow.org), we will upload two files in tab separated format: a file of vectors (containing the embedding), and a file of meta data (containing the words)."
      ]
    },
    {
      "cell_type": "code",
      "metadata": {
        "id": "eGv8xPLqog7O",
        "colab_type": "code",
        "colab": {}
      },
      "source": [
        "import io\n",
        "\n",
        "out_v = io.open('vecs.tsv', 'w', encoding='utf-8')\n",
        "out_m = io.open('meta.tsv', 'w', encoding='utf-8')\n",
        "\n",
        "for num, word in enumerate(character):\n",
        "  vec = weights[num+1] # skip 0, it's padding.\n",
        "  out_m.write(word + \"\\n\")\n",
        "  out_v.write('\\t'.join([str(x) for x in vec]) + \"\\n\")\n",
        "out_v.close()\n",
        "out_m.close()"
      ],
      "execution_count": 0,
      "outputs": []
    },
    {
      "cell_type": "markdown",
      "metadata": {
        "id": "56GEG1f_bZsf",
        "colab_type": "text"
      },
      "source": [
        "# confusion matrix"
      ]
    },
    {
      "cell_type": "code",
      "metadata": {
        "id": "fpth-oosttIQ",
        "colab_type": "code",
        "outputId": "f17c5698-8e0c-4d4f-cfec-0b983821523f",
        "colab": {
          "base_uri": "https://localhost:8080/",
          "height": 501
        }
      },
      "source": [
        "from sklearn.metrics import confusion_matrix\n",
        "import numpy as np\n",
        "import seaborn as sns\n",
        "\n",
        "con_mat = confusion_matrix(y_test, y_pred_LSTM)\n",
        "\n",
        "con_mat_norm = con_mat.astype('float') / con_mat.sum(axis=1)[:, np.newaxis]     \n",
        "con_mat_norm = np.around(con_mat_norm, decimals=2)\n",
        "\n",
        "# === plot ===\n",
        "figure = plt.figure(figsize=(8, 8))\n",
        "sns.heatmap(con_mat_norm, annot=True, cmap='Blues')\n",
        "\n",
        "plt.ylim(0, 2)\n",
        "plt.xlabel('Predicted labels')\n",
        "plt.ylabel('True labels')\n",
        "plt.show()"
      ],
      "execution_count": 0,
      "outputs": [
        {
          "output_type": "display_data",
          "data": {
            "image/png": "[encoded data removed]",
            "text/plain": [
              "<Figure size 576x576 with 2 Axes>"
            ]
          },
          "metadata": {
            "tags": []
          }
        }
      ]
    },
    {
      "cell_type": "code",
      "metadata": {
        "id": "CONkxd1OHovf",
        "colab_type": "code",
        "outputId": "1cff55b7-937a-46a4-c381-c7d7a07ffefe",
        "colab": {
          "base_uri": "https://localhost:8080/",
          "height": 497
        }
      },
      "source": [
        "from sklearn.metrics import confusion_matrix\n",
        "import numpy as np\n",
        "import seaborn as sns\n",
        "\n",
        "con_mat = confusion_matrix(y_test, y_pred_NN)\n",
        "\n",
        "con_mat_norm = con_mat.astype('float') / con_mat.sum(axis=1)[:, np.newaxis]     \n",
        "con_mat_norm = np.around(con_mat_norm, decimals=2)\n",
        "\n",
        "# === plot ===\n",
        "figure = plt.figure(figsize=(8, 8))\n",
        "sns.heatmap(con_mat_norm, annot=True, cmap='Blues')\n",
        "\n",
        "plt.ylim(0, 2)\n",
        "plt.xlabel('Predicted labels')\n",
        "plt.ylabel('True labels')\n",
        "plt.show()"
      ],
      "execution_count": 0,
      "outputs": [
        {
          "output_type": "display_data",
          "data": {
            "image/png": "[encoded data removed]",
            "text/plain": [
              "<Figure size 576x576 with 2 Axes>"
            ]
          },
          "metadata": {
            "tags": []
          }
        }
      ]
    },
    {
      "cell_type": "markdown",
      "metadata": {
        "id": "wFQx3d5Sso-e",
        "colab_type": "text"
      },
      "source": [
        "## ROC curve"
      ]
    },
    {
      "cell_type": "code",
      "metadata": {
        "id": "pe6klHFxiAoL",
        "colab_type": "code",
        "colab": {}
      },
      "source": [
        "from sklearn.metrics import roc_curve\n",
        "from sklearn.metrics import auc\n",
        "\n",
        "y_pred_keras = model.predict(x_test).ravel()\n",
        "\n",
        "fpr_keras, tpr_keras, thresholds_keras = roc_curve(y_test, y_pred_keras)\n",
        "auc_keras = auc(fpr_keras,tpr_keras)"
      ],
      "execution_count": 0,
      "outputs": []
    },
    {
      "cell_type": "code",
      "metadata": {
        "id": "T5FvzDSbs5OQ",
        "colab_type": "code",
        "colab": {}
      },
      "source": [
        "plt.figure(figsize=(8, 6))\n",
        "plt.plot([0, 1], [0, 1], 'k--')\n",
        "plt.plot(fpr_keras, tpr_keras, label='Test (area = {:.3f})'.format(auc_keras))\n",
        "plt.xlabel('False positive rate')\n",
        "plt.ylabel('True positive rate')\n",
        "plt.title('ROC curve')\n",
        "plt.legend(loc='best')\n",
        "plt.show()"
      ],
      "execution_count": 0,
      "outputs": []
    },
    {
      "cell_type": "markdown",
      "metadata": {
        "id": "TUkb2WYzt58Q",
        "colab_type": "text"
      },
      "source": [
        "# PR curve"
      ]
    },
    {
      "cell_type": "code",
      "metadata": {
        "id": "_zzTxNHat1a9",
        "colab_type": "code",
        "colab": {}
      },
      "source": [
        "from sklearn.metrics import precision_recall_curve\n",
        "precisions, recalls, thresholds = precision_recall_curve(y_test, y_pred_keras)\n",
        "\n",
        "def plot_precision_vs_recall(precisions, recalls):\n",
        "    plt.plot(recalls, precisions, \"b-\", linewidth=2)\n",
        "    plt.title('PR curve')\n",
        "    plt.xlabel(\"Recall\", fontsize=16)\n",
        "    plt.ylabel(\"Precision\", fontsize=16)\n",
        "    plt.axis([0, 1, 0, 1])\n",
        "\n",
        "plt.figure(figsize=(8, 6))\n",
        "plot_precision_vs_recall(precisions, recalls)\n",
        "plt.show()"
      ],
      "execution_count": 0,
      "outputs": []
    },
    {
      "cell_type": "code",
      "metadata": {
        "id": "HrRm93-DyWUA",
        "colab_type": "code",
        "colab": {}
      },
      "source": [
        ""
      ],
      "execution_count": 0,
      "outputs": []
    }
  ]
}