{
  "nbformat": 4,
  "nbformat_minor": 0,
  "metadata": {
    "colab": {
      "name": "URL_weight_define.ipynb",
      "provenance": [],
      "private_outputs": true,
      "collapsed_sections": [],
      "authorship_tag": "ABX9TyNSYslxQIrY7kiyriFxkYtq",
      "include_colab_link": true
    },
    "kernelspec": {
      "name": "python3",
      "display_name": "Python 3"
    },
    "accelerator": "GPU"
  },
  "cells": [
    {
      "cell_type": "markdown",
      "metadata": {
        "id": "view-in-github",
        "colab_type": "text"
      },
      "source": [
        "<a href=\"https://colab.research.google.com/github/bohsiang/URL_detection/blob/master/URL_weight_define.ipynb\" target=\"_parent\"><img src=\"https://colab.research.google.com/assets/colab-badge.svg\" alt=\"Open In Colab\"/></a>"
      ]
    },
    {
      "cell_type": "code",
      "metadata": {
        "id": "bikT3ivX_8tJ",
        "colab_type": "code",
        "colab": {}
      },
      "source": [
        "from google.colab import drive\n",
        "drive.mount('/content/drive')\n",
        "# login and enter the Authorization code\n",
        "# 登入並且輸入授權碼"
      ],
      "execution_count": 0,
      "outputs": []
    },
    {
      "cell_type": "code",
      "metadata": {
        "id": "zsGqMwewAzgY",
        "colab_type": "code",
        "colab": {}
      },
      "source": [
        "import pandas as pd\n",
        "DATA_FILE ='/content/drive/My Drive/URL.csv' \n",
        "data_csv = pd.read_csv(DATA_FILE, header=0, engine='python', usecols = [\"URL\", \"IsMalicious\"])"
      ],
      "execution_count": 0,
      "outputs": []
    },
    {
      "cell_type": "code",
      "metadata": {
        "id": "e6nWsnG5b9VO",
        "colab_type": "code",
        "colab": {}
      },
      "source": [
        "data_csv.dropna(axis=0, how='any', inplace=True)\n",
        "data_csv.reset_index(drop=True, inplace=True)\n",
        "data_csv = data_csv.rename(columns={\"IsMalicious\": \"Label\"})\n",
        "data_csv"
      ],
      "execution_count": 0,
      "outputs": []
    },
    {
      "cell_type": "code",
      "metadata": {
        "id": "xkREwQh0nc1m",
        "colab_type": "code",
        "colab": {}
      },
      "source": [
        "all_data"
      ],
      "execution_count": 0,
      "outputs": []
    },
    {
      "cell_type": "markdown",
      "metadata": {
        "id": "duavOhzlUc-s",
        "colab_type": "text"
      },
      "source": [
        "## getting data"
      ]
    },
    {
      "cell_type": "code",
      "metadata": {
        "id": "KSDQHsNbGiRm",
        "colab_type": "code",
        "colab": {}
      },
      "source": [
        "all_data = data_csv.loc[0:, ['URL', 'Label']] "
      ],
      "execution_count": 0,
      "outputs": []
    },
    {
      "cell_type": "code",
      "metadata": {
        "id": "b-EXgjcGGxt2",
        "colab_type": "code",
        "colab": {}
      },
      "source": [
        "#all_data['Label'] = [1 if i == \"Malicious\" else -1 for i in all_data['Label']]\n",
        "all_data['Label'] = [1 if i == True else -1 for i in all_data['Label']]"
      ],
      "execution_count": 0,
      "outputs": []
    },
    {
      "cell_type": "code",
      "metadata": {
        "id": "b3EqrH6PG9wJ",
        "colab_type": "code",
        "colab": {}
      },
      "source": [
        "Malicious_url = all_data.loc[all_data['Label'] == 1]\n",
        "Malicious_url.reset_index(drop=True, inplace=True)"
      ],
      "execution_count": 0,
      "outputs": []
    },
    {
      "cell_type": "code",
      "metadata": {
        "id": "WOX_l2DtIuCZ",
        "colab_type": "code",
        "colab": {}
      },
      "source": [
        "Benign_url = all_data.loc[all_data['Label'] == -1]\n",
        "Benign_url.reset_index(drop=True, inplace=True)"
      ],
      "execution_count": 0,
      "outputs": []
    },
    {
      "cell_type": "code",
      "metadata": {
        "id": "0S6JPUtcno4X",
        "colab_type": "code",
        "colab": {}
      },
      "source": [
        "Malicious_url[\"URL\"]"
      ],
      "execution_count": 0,
      "outputs": []
    },
    {
      "cell_type": "code",
      "metadata": {
        "id": "U6pZdVWcv6YP",
        "colab_type": "code",
        "colab": {}
      },
      "source": [
        "Benign_url[\"URL\"]"
      ],
      "execution_count": 0,
      "outputs": []
    },
    {
      "cell_type": "markdown",
      "metadata": {
        "id": "acAKx3gnUnEt",
        "colab_type": "text"
      },
      "source": [
        "## split domain and path"
      ]
    },
    {
      "cell_type": "code",
      "metadata": {
        "id": "HIc7IY1rI8Kt",
        "colab_type": "code",
        "colab": {}
      },
      "source": [
        "'''\n",
        "def split_function(url):\n",
        "  temp_domain,temp_path = [],[]\n",
        "  for i in url['URL']:\n",
        "      part = i.split(\"/\",3)[2].split('.')\n",
        "      try:\n",
        "        if int(part[0]) < 255 and int(part[0]) > 0:\n",
        "          print(i.split(\"/\",3)[2] + \"   this is ip\")\n",
        "      except:\n",
        "        #temp_domain = [i.split(\"/\",3)[2] for i in url['URL']]\n",
        "        temp_domain.append(i.split(\"/\",3)[2])\n",
        "        if len(i.split(\"/\",3)) > 3:\n",
        "          temp_path.append(i.split(\"/\",3)[3])\n",
        "        else:\n",
        "          temp_path.append(\"\") \n",
        "        #temp_path = [i.split(\"/\",3)[3] if len(i.split(\"/\",3)) > 3 else \"\" for i in url['URL']]\n",
        "  return temp_domain,temp_path\n",
        "'''\n",
        "def split_function(url):\n",
        "  temp_domain = [i.split(\"/\",3)[2] for i in url['URL']]\n",
        "  temp_path = [i.split(\"/\",3)[3] if len(i.split(\"/\",3)) > 3 else \"\" for i in url['URL']]\n",
        "  return temp_domain,temp_path\n"
      ],
      "execution_count": 0,
      "outputs": []
    },
    {
      "cell_type": "code",
      "metadata": {
        "id": "Njkt7YbcNs_l",
        "colab_type": "code",
        "colab": {}
      },
      "source": [
        "Benign_url_domain,Benign_url_path = split_function(Benign_url)"
      ],
      "execution_count": 0,
      "outputs": []
    },
    {
      "cell_type": "code",
      "metadata": {
        "id": "HU4-RmWnN9VX",
        "colab_type": "code",
        "colab": {}
      },
      "source": [
        "Malicious_url_domain,Malicious_url_path = split_function(Malicious_url)"
      ],
      "execution_count": 0,
      "outputs": []
    },
    {
      "cell_type": "code",
      "metadata": {
        "id": "PBcADAYu3D1z",
        "colab_type": "code",
        "colab": {}
      },
      "source": [
        "for i in range(20,40):\n",
        "  print(Malicious_url_domain[i]+\"\\t\"+Malicious_url_path[i])"
      ],
      "execution_count": 0,
      "outputs": []
    },
    {
      "cell_type": "code",
      "metadata": {
        "id": "7YaWbNfCuIrh",
        "colab_type": "code",
        "colab": {}
      },
      "source": [
        "len(Malicious_url_domain)"
      ],
      "execution_count": 0,
      "outputs": []
    },
    {
      "cell_type": "code",
      "metadata": {
        "id": "z-ERNMzluPnn",
        "colab_type": "code",
        "colab": {}
      },
      "source": [
        "len(Benign_url_domain)"
      ],
      "execution_count": 0,
      "outputs": []
    },
    {
      "cell_type": "markdown",
      "metadata": {
        "id": "pTt5rRsYCWrv",
        "colab_type": "text"
      },
      "source": [
        "## Find character in each words"
      ]
    },
    {
      "cell_type": "code",
      "metadata": {
        "id": "PZT1C-JSCWH4",
        "colab_type": "code",
        "colab": {}
      },
      "source": [
        "import collections \n",
        "def char_arrangement(input_sentence):\n",
        "  cnt = collections.Counter()\n",
        "  for word in input_sentence:\n",
        "    for character in word:\n",
        "      cnt[character] += 1\n",
        "  return cnt"
      ],
      "execution_count": 0,
      "outputs": []
    },
    {
      "cell_type": "code",
      "metadata": {
        "id": "B23ROY1w7KDO",
        "colab_type": "code",
        "colab": {}
      },
      "source": [
        "Malicious_url_domain_count = char_arrangement(Malicious_url_domain)\n",
        "Malicious_url_path_count = char_arrangement(Malicious_url_path)"
      ],
      "execution_count": 0,
      "outputs": []
    },
    {
      "cell_type": "code",
      "metadata": {
        "id": "AQofplvsEJfN",
        "colab_type": "code",
        "colab": {}
      },
      "source": [
        "Benign_url_domain_count = char_arrangement(Benign_url_domain)\n",
        "Benign_url_path_count = char_arrangement(Benign_url_path)"
      ],
      "execution_count": 0,
      "outputs": []
    },
    {
      "cell_type": "code",
      "metadata": {
        "id": "7QSScw0pAr2h",
        "colab_type": "code",
        "colab": {}
      },
      "source": [
        "'''\n",
        "def split_function1(url):\n",
        "  temp = []\n",
        "  for i in url['URL']:\n",
        "      part = i.split(\"/\",3)[2].split('.')\n",
        "      try:\n",
        "        if int(part[0]) < 255 and int(part[0]) > 0:\n",
        "          print(i.split(\"/\",3)[2] + \"   this is ip\")\n",
        "      except:\n",
        "        #temp_domain = [i.split(\"/\",3)[2] for i in url['URL']]\n",
        "        temp_domain = i.split(\"/\",3)[2]\n",
        "        if len(i.split(\"/\",3)) > 3:\n",
        "          temp_path = i.split(\"/\",3)[3]\n",
        "        else:\n",
        "          temp_path = \"\"\n",
        "        #temp_path = [i.split(\"/\",3)[3] if len(i.split(\"/\",3)) > 3 else \"\" for i in url['URL']]\n",
        "        temp.append(temp_domain + temp_path)\n",
        "  return temp\n",
        "a = split_function1(Malicious_url)\n",
        "b = split_function1(Benign_url)\n",
        "Malicious_url_ = char_arrangement(a)\n",
        "Benign_url_ = char_arrangement(b)\n",
        "'''"
      ],
      "execution_count": 0,
      "outputs": []
    },
    {
      "cell_type": "code",
      "metadata": {
        "id": "Ke3NOle_BKmJ",
        "colab_type": "code",
        "colab": {}
      },
      "source": [
        "#Malicious_url_"
      ],
      "execution_count": 0,
      "outputs": []
    },
    {
      "cell_type": "markdown",
      "metadata": {
        "id": "ZclhgxbcEhan",
        "colab_type": "text"
      },
      "source": [
        "## Draw Character Distribution"
      ]
    },
    {
      "cell_type": "code",
      "metadata": {
        "id": "OaspkWNlEgor",
        "colab_type": "code",
        "colab": {}
      },
      "source": [
        "import numpy as np\n",
        "import matplotlib.pyplot as plt\n",
        "\n",
        "def Character_Distribution(input_data):\n",
        "  labels = [i for i,j in input_data]\n",
        "  values = [j for i,j in input_data]\n",
        "  values_nor = [i/sum(values) for i in values]\n",
        "  #labels, values = zip(*input_data.items())\n",
        "  print(len(labels))\n",
        "  indexes = np.arange(len(labels))\n",
        "  width = 1\n",
        "\n",
        "  plt.figure(figsize=(20,8))\n",
        "  plt.bar(indexes, values, width)\n",
        "  plt.xticks(indexes + width * 0.5, labels)\n",
        "  plt.show()\n",
        "\n",
        "  return labels,values_nor"
      ],
      "execution_count": 0,
      "outputs": []
    },
    {
      "cell_type": "code",
      "metadata": {
        "id": "3yGoZ8ijA69X",
        "colab_type": "code",
        "colab": {}
      },
      "source": [
        "#Malicious_labels,Malicious_values = Character_Distribution(Malicious_url_.most_common())\n",
        "#Benign_labels,Benign_values = Character_Distribution(Benign_url_.most_common())"
      ],
      "execution_count": 0,
      "outputs": []
    },
    {
      "cell_type": "code",
      "metadata": {
        "id": "JUmELuTxJ6Pb",
        "colab_type": "code",
        "colab": {}
      },
      "source": [
        "Malicious_domain_labels,Malicious_domain_values = Character_Distribution(Malicious_url_domain_count.most_common())"
      ],
      "execution_count": 0,
      "outputs": []
    },
    {
      "cell_type": "code",
      "metadata": {
        "id": "tmhhA_yJJ-LG",
        "colab_type": "code",
        "colab": {}
      },
      "source": [
        "Benign_domain_labels,Benign_domain_values = Character_Distribution(Benign_url_domain_count.most_common())"
      ],
      "execution_count": 0,
      "outputs": []
    },
    {
      "cell_type": "code",
      "metadata": {
        "id": "jNUCqdUVP9cj",
        "colab_type": "code",
        "colab": {}
      },
      "source": [
        "Malicious_path_labels,Malicious_path_values = Character_Distribution(Malicious_url_path_count.most_common())"
      ],
      "execution_count": 0,
      "outputs": []
    },
    {
      "cell_type": "code",
      "metadata": {
        "id": "VVSHRJLdPSLJ",
        "colab_type": "code",
        "colab": {}
      },
      "source": [
        "Benign_path_labels,Benign_path_values = Character_Distribution(Benign_url_path_count.most_common())"
      ],
      "execution_count": 0,
      "outputs": []
    },
    {
      "cell_type": "markdown",
      "metadata": {
        "id": "fc5buUtRke5M",
        "colab_type": "text"
      },
      "source": [
        "## Define New Dictionary"
      ]
    },
    {
      "cell_type": "code",
      "metadata": {
        "id": "HClrCQSIQA8u",
        "colab_type": "code",
        "colab": {}
      },
      "source": [
        "def new_dict(Benign,Malicious):\n",
        "  max_num = max(len(Benign),len(Malicious))\n",
        "  Malicious_array_num = [i for i in range(max_num,max_num-len(Malicious),-1)]\n",
        "  Benign_array_num = [i for i in range(-max_num,-(max_num-len(Benign)),1)]\n",
        "  Benign_dict = zip(Benign,Benign_array_num)\n",
        "  Malicious_dict = zip(Malicious,Malicious_array_num)\n",
        "  Benign_dict = dict(Benign_dict)\n",
        "  Malicious_dict = dict(Malicious_dict)\n",
        "  all_dict = {**Benign_dict, **Malicious_dict}\n",
        "\n",
        "  for key in all_dict: \n",
        "    if key in Benign_dict and key in Malicious_dict: \n",
        "        all_dict[key] = (Malicious_dict[key] + Benign_dict[key])/2 + 1\n",
        "    elif key in Benign_dict: \n",
        "        all_dict[key] = Benign_dict[key]/2 + 1\n",
        "    elif key in Malicious_dict: \n",
        "        all_dict[key] = Malicious_dict[key]/2 + 1\n",
        "  return all_dict"
      ],
      "execution_count": 0,
      "outputs": []
    },
    {
      "cell_type": "code",
      "metadata": {
        "id": "bUqWWBj0jram",
        "colab_type": "code",
        "colab": {}
      },
      "source": [
        "'''\n",
        "def new_dict(Benign,Malicious):\n",
        "  \n",
        "  Benign_dict = dict(Benign)\n",
        "  Malicious_dict = dict(Malicious)\n",
        "  all_dict = {**Benign_dict, **Malicious_dict}\n",
        "\n",
        "  for key in all_dict: \n",
        "    if key in Benign_dict and key in Malicious_dict: \n",
        "        all_dict[key] = (Malicious_dict[key] + Benign_dict[key])\n",
        "    elif key in Benign_dict: \n",
        "        all_dict[key] = Benign_dict[key]\n",
        "    elif key in Malicious_dict: \n",
        "        all_dict[key] = Malicious_dict[key]\n",
        "  return all_dict\n",
        "'''"
      ],
      "execution_count": 0,
      "outputs": []
    },
    {
      "cell_type": "code",
      "metadata": {
        "id": "JytKR9BtBN_w",
        "colab_type": "code",
        "colab": {}
      },
      "source": [
        "domain_weight_dict = new_dict(Benign_domain_labels,Malicious_domain_labels)\n",
        "path_weight_dict = new_dict(Benign_path_labels,Malicious_path_labels)"
      ],
      "execution_count": 0,
      "outputs": []
    },
    {
      "cell_type": "code",
      "metadata": {
        "id": "6viClzIXLlEr",
        "colab_type": "code",
        "colab": {}
      },
      "source": [
        "#domain_weight_dict = new_dict(zip(Benign_domain_labels,[-i for i in Benign_domain_values]),zip(Malicious_domain_labels,Malicious_domain_values))\n",
        "#path_weight_dict = new_dict(zip(Benign_path_labels,[-i for i in Benign_path_values]),zip(Malicious_path_labels,Malicious_path_values))"
      ],
      "execution_count": 0,
      "outputs": []
    },
    {
      "cell_type": "code",
      "metadata": {
        "id": "T0z0LDjfCRE1",
        "colab_type": "code",
        "colab": {}
      },
      "source": [
        "#new_weight_dict = new_dict(zip(Benign_labels,[-i for i in Benign_values]),zip(Malicious_labels,[i for i in Malicious_values]))"
      ],
      "execution_count": 0,
      "outputs": []
    },
    {
      "cell_type": "code",
      "metadata": {
        "id": "gZ9SSt9YLQti",
        "colab_type": "code",
        "colab": {}
      },
      "source": [
        "sorted(domain_weight_dict.items(), key=lambda kv: kv[1])\n",
        "#sorted(new_weight_dict.items(), key=lambda kv: kv[1])"
      ],
      "execution_count": 0,
      "outputs": []
    },
    {
      "cell_type": "markdown",
      "metadata": {
        "id": "z-IfUxLKlX_U",
        "colab_type": "text"
      },
      "source": [
        "## Renew Define URL\n",
        "### Add Penalty factor\n"
      ]
    },
    {
      "cell_type": "code",
      "metadata": {
        "id": "mj8p6BDUP0s-",
        "colab_type": "code",
        "colab": {}
      },
      "source": [
        "def compute_weight(input_seq,dict_type):\n",
        "  temp_arr = []\n",
        "  temp_num = []\n",
        "  for word in input_seq:\n",
        "    num = 0\n",
        "    for character in word:\n",
        "      num += dict_type[character]\n",
        "    \n",
        "    if num == 0 :\n",
        "      temp_arr.append(0)  \n",
        "    else:\n",
        "      temp_arr.append(num/len(word))\n",
        "      #temp_arr.append(num)\n",
        "    temp_num.append(len(word))\n",
        "  return temp_arr,temp_num"
      ],
      "execution_count": 0,
      "outputs": []
    },
    {
      "cell_type": "code",
      "metadata": {
        "id": "gs4grwQjlnwx",
        "colab_type": "code",
        "colab": {}
      },
      "source": [
        "def compute_url(domain,path,input_type):\n",
        "  if input_type == \"split\":\n",
        "    domain_arr,domain_num = compute_weight(domain,domain_weight_dict)\n",
        "    path_arr,path_num = compute_weight(path,path_weight_dict)\n",
        "    #domain_arr,domain_num = compute_weight(domain,new_weight_dict)\n",
        "    #path_arr,path_num = compute_weight(path,new_weight_dict)\n",
        "    #for i in range(len(path_arr)):\n",
        "      #if path_arr[i] != 0:\n",
        "        #domain_arr[i] *= path_arr[i]/domain_arr[i]\n",
        "        #path_arr[i] /= 2\n",
        "    all_arr = [i+(j/1.06) for i,j in zip(domain_arr,path_arr)]\n",
        "  else:\n",
        "    domain_arr,domain_num = compute_weight(domain,new_weight_dict)\n",
        "    all_arr = [i for i in domain_arr]\n",
        "  return all_arr"
      ],
      "execution_count": 0,
      "outputs": []
    },
    {
      "cell_type": "code",
      "metadata": {
        "id": "zmaTzwe_RaWE",
        "colab_type": "code",
        "colab": {}
      },
      "source": [
        "Malicious_result = compute_url(Malicious_url_domain,Malicious_url_path,\"split\")"
      ],
      "execution_count": 0,
      "outputs": []
    },
    {
      "cell_type": "code",
      "metadata": {
        "id": "Y98_Mze-RhGB",
        "colab_type": "code",
        "colab": {}
      },
      "source": [
        "Benign_result = compute_url(Benign_url_domain,Benign_url_path,\"split\")"
      ],
      "execution_count": 0,
      "outputs": []
    },
    {
      "cell_type": "code",
      "metadata": {
        "id": "EnTrqDCMFSVw",
        "colab_type": "code",
        "colab": {}
      },
      "source": [
        "#Malicious_result = compute_url(Malicious_url[\"URL\"],Malicious_url_path,\"none\")\n",
        "#Benign_result = compute_url(Benign_url[\"URL\"],Benign_url_path,\"none\")"
      ],
      "execution_count": 0,
      "outputs": []
    },
    {
      "cell_type": "code",
      "metadata": {
        "id": "KeT-A0xjMpUb",
        "colab_type": "code",
        "colab": {}
      },
      "source": [
        "print(Malicious_url_domain[63:66],Malicious_url_path[63:66])"
      ],
      "execution_count": 0,
      "outputs": []
    },
    {
      "cell_type": "code",
      "metadata": {
        "id": "7hqOmpaGMhKT",
        "colab_type": "code",
        "colab": {}
      },
      "source": [
        "Malicious_result[63:66]"
      ],
      "execution_count": 0,
      "outputs": []
    },
    {
      "cell_type": "markdown",
      "metadata": {
        "id": "h0j06r_Ulqwt",
        "colab_type": "text"
      },
      "source": [
        "## Analysis Distribution\n",
        "### overlapping two class\n"
      ]
    },
    {
      "cell_type": "code",
      "metadata": {
        "id": "55fkZR1ll1SC",
        "colab_type": "code",
        "colab": {}
      },
      "source": [
        "import matplotlib.pyplot as plt\n",
        "def Distribution(num):\n",
        "  plt.figure(figsize=(10,8))\n",
        "  plt.hist(Malicious_result, bins=200, alpha=0.5, label=\"malicious\",range=[-num, num])\n",
        "  plt.hist(Benign_result, bins=200, alpha=0.5, label=\"benign\",range=[-num, num])\n",
        "  plt.xlabel(\"Data\", size=14)\n",
        "  plt.ylabel(\"Count\", size=14)\n",
        "  plt.title(\"Multiple Histograms with Matplotlib\")\n",
        "  plt.legend(loc='upper right')\n",
        "  plt.show()"
      ],
      "execution_count": 0,
      "outputs": []
    },
    {
      "cell_type": "code",
      "metadata": {
        "id": "3SdG-pmaHo7g",
        "colab_type": "code",
        "colab": {}
      },
      "source": [
        "Distribution(10)"
      ],
      "execution_count": 0,
      "outputs": []
    },
    {
      "cell_type": "code",
      "metadata": {
        "id": "fYEWWINx_cR6",
        "colab_type": "code",
        "colab": {}
      },
      "source": [
        "len(Malicious_result)"
      ],
      "execution_count": 0,
      "outputs": []
    },
    {
      "cell_type": "code",
      "metadata": {
        "id": "y7p_Hio2K0-w",
        "colab_type": "code",
        "colab": {}
      },
      "source": [
        "len(Benign_result)"
      ],
      "execution_count": 0,
      "outputs": []
    },
    {
      "cell_type": "markdown",
      "metadata": {
        "id": "pLGPxH7dPhVG",
        "colab_type": "text"
      },
      "source": [
        "## Find Threshold "
      ]
    },
    {
      "cell_type": "code",
      "metadata": {
        "id": "eg7vOO1ne85_",
        "colab_type": "code",
        "colab": {}
      },
      "source": [
        "def find_threshold(input_range):\n",
        "  num1,num2 = 0,0\n",
        "  for i in Malicious_result:\n",
        "    if i < input_range:\n",
        "      num1 += 1\n",
        "  for i in Benign_result:\n",
        "    if i < input_range:\n",
        "      num2 += 1\n",
        "  return (1-num1/len(Malicious_result)),num2/len(Benign_result)"
      ],
      "execution_count": 0,
      "outputs": []
    },
    {
      "cell_type": "code",
      "metadata": {
        "id": "ujV5F_x_EYBq",
        "colab_type": "code",
        "colab": {}
      },
      "source": [
        "import numpy as np\n",
        "y1,y2 = [],[]\n",
        "for i in np.arange(1.0, 2.0, 0.01):\n",
        "  m,b = find_threshold(i)\n",
        "  y1.append(m)\n",
        "  y2.append(b)\n",
        "  print(str(i) + \" Malicious : \" + str(m) + \" Benign : \" + str(b))"
      ],
      "execution_count": 0,
      "outputs": []
    },
    {
      "cell_type": "code",
      "metadata": {
        "id": "uw5shGP2XNLb",
        "colab_type": "code",
        "colab": {}
      },
      "source": [
        "x1 = np.arange(1.0, 2.0, 0.01)\n",
        "plt.figure(figsize=(10,8))\n",
        "plt.xlabel(\"Threshold \", size=14)\n",
        "plt.ylabel(\"Cover range rate\", size=14)\n",
        "plt.plot(x1, y1, 'r--', label='Malicious(Not cover)')\n",
        "plt.plot(x1, y2, 'c--', label='Benign(cover)')\n",
        "plt.legend()\n",
        "plt.show()"
      ],
      "execution_count": 0,
      "outputs": []
    },
    {
      "cell_type": "code",
      "metadata": {
        "id": "Z-maqjZlEcAK",
        "colab_type": "code",
        "colab": {}
      },
      "source": [
        "print(sum(Malicious_result)/len(Malicious_result),sum(Benign_result)/len(Benign_result))"
      ],
      "execution_count": 0,
      "outputs": []
    },
    {
      "cell_type": "code",
      "metadata": {
        "id": "m-upbW7ZfTrJ",
        "colab_type": "code",
        "colab": {}
      },
      "source": [
        "62349-61607"
      ],
      "execution_count": 0,
      "outputs": []
    },
    {
      "cell_type": "code",
      "metadata": {
        "id": "S_PtmmD4wHPP",
        "colab_type": "code",
        "colab": {}
      },
      "source": [
        "16352-11872"
      ],
      "execution_count": 0,
      "outputs": []
    },
    {
      "cell_type": "code",
      "metadata": {
        "id": "dJRoQCLMwMls",
        "colab_type": "code",
        "colab": {}
      },
      "source": [
        "##remove ip + threshold = 1.73\n",
        "3391/11872"
      ],
      "execution_count": 0,
      "outputs": []
    },
    {
      "cell_type": "code",
      "metadata": {
        "id": "nW10T6LgMJPI",
        "colab_type": "code",
        "colab": {}
      },
      "source": [
        "##remove ip -\n",
        "50557/61607"
      ],
      "execution_count": 0,
      "outputs": []
    },
    {
      "cell_type": "code",
      "metadata": {
        "id": "NbdCO3XhMIJF",
        "colab_type": "code",
        "colab": {}
      },
      "source": [
        "## no remove ip + threshold = 1.22\n",
        "3427/16352"
      ],
      "execution_count": 0,
      "outputs": []
    },
    {
      "cell_type": "code",
      "metadata": {
        "id": "l45D1q7SOlmf",
        "colab_type": "code",
        "colab": {}
      },
      "source": [
        "## no remove ip +\n",
        "48254/62349"
      ],
      "execution_count": 0,
      "outputs": []
    },
    {
      "cell_type": "code",
      "metadata": {
        "id": "xNDaWBsTOqFu",
        "colab_type": "code",
        "colab": {}
      },
      "source": [
        ""
      ],
      "execution_count": 0,
      "outputs": []
    }
  ]
}