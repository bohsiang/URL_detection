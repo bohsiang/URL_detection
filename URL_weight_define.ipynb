{
  "nbformat": 4,
  "nbformat_minor": 0,
  "metadata": {
    "colab": {
      "name": "URL_weight_define.ipynb",
      "provenance": [],
      "private_outputs": true,
      "collapsed_sections": [],
      "authorship_tag": "ABX9TyM+TuYVCCdCyVineRYPqFrQ",
      "include_colab_link": true
    },
    "kernelspec": {
      "name": "python3",
      "display_name": "Python 3"
    },
    "accelerator": "GPU"
  },
  "cells": [
    {
      "cell_type": "markdown",
      "metadata": {
        "id": "view-in-github",
        "colab_type": "text"
      },
      "source": [
        "<a href=\"https://colab.research.google.com/github/bohsiang/URL_detection/blob/master/URL_weight_define.ipynb\" target=\"_parent\"><img src=\"https://colab.research.google.com/assets/colab-badge.svg\" alt=\"Open In Colab\"/></a>"
      ]
    },
    {
      "cell_type": "code",
      "metadata": {
        "id": "bikT3ivX_8tJ",
        "colab_type": "code",
        "colab": {}
      },
      "source": [
        "from google.colab import drive\n",
        "drive.mount('/content/drive')\n",
        "# login and enter the Authorization code\n",
        "# 登入並且輸入授權碼"
      ],
      "execution_count": 0,
      "outputs": []
    },
    {
      "cell_type": "code",
      "metadata": {
        "id": "zsGqMwewAzgY",
        "colab_type": "code",
        "colab": {}
      },
      "source": [
        "import pandas as pd\n",
        "DATA_FILE ='/content/drive/My Drive/URL.csv' \n",
        "data_csv = pd.read_csv(DATA_FILE, header=0)"
      ],
      "execution_count": 0,
      "outputs": []
    },
    {
      "cell_type": "markdown",
      "metadata": {
        "id": "duavOhzlUc-s",
        "colab_type": "text"
      },
      "source": [
        "## getting data"
      ]
    },
    {
      "cell_type": "code",
      "metadata": {
        "id": "KSDQHsNbGiRm",
        "colab_type": "code",
        "colab": {}
      },
      "source": [
        "all_data = data_csv.loc[0:, ['URL', 'Label']] "
      ],
      "execution_count": 0,
      "outputs": []
    },
    {
      "cell_type": "code",
      "metadata": {
        "id": "b-EXgjcGGxt2",
        "colab_type": "code",
        "colab": {}
      },
      "source": [
        "all_data['Label'] = [1 if i == \"Malicious\" else -1 for i in all_data['Label']]"
      ],
      "execution_count": 0,
      "outputs": []
    },
    {
      "cell_type": "code",
      "metadata": {
        "id": "b3EqrH6PG9wJ",
        "colab_type": "code",
        "colab": {}
      },
      "source": [
        "Malicious_url = all_data.loc[all_data['Label'] == 1]"
      ],
      "execution_count": 0,
      "outputs": []
    },
    {
      "cell_type": "code",
      "metadata": {
        "id": "WOX_l2DtIuCZ",
        "colab_type": "code",
        "colab": {}
      },
      "source": [
        "Benign_url = all_data.loc[all_data['Label'] == -1]"
      ],
      "execution_count": 0,
      "outputs": []
    },
    {
      "cell_type": "markdown",
      "metadata": {
        "id": "acAKx3gnUnEt",
        "colab_type": "text"
      },
      "source": [
        "## split domain and path"
      ]
    },
    {
      "cell_type": "code",
      "metadata": {
        "id": "HIc7IY1rI8Kt",
        "colab_type": "code",
        "colab": {}
      },
      "source": [
        "def split_function(url):\n",
        "  temp_domain = [i.split(\"/\",3)[2] for i in url['URL']]\n",
        "  temp_path = [i.split(\"/\",3)[3] if len(i.split(\"/\",3)) > 3 else \"\" for i in url['URL']]\n",
        "  return temp_domain,temp_path"
      ],
      "execution_count": 0,
      "outputs": []
    },
    {
      "cell_type": "code",
      "metadata": {
        "id": "Njkt7YbcNs_l",
        "colab_type": "code",
        "colab": {}
      },
      "source": [
        "Benign_url_domain,Benign_url_path = split_function(Benign_url)"
      ],
      "execution_count": 0,
      "outputs": []
    },
    {
      "cell_type": "code",
      "metadata": {
        "id": "HU4-RmWnN9VX",
        "colab_type": "code",
        "colab": {}
      },
      "source": [
        "Malicious_url_domain,Malicious_url_path = split_function(Malicious_url)"
      ],
      "execution_count": 0,
      "outputs": []
    },
    {
      "cell_type": "markdown",
      "metadata": {
        "id": "pTt5rRsYCWrv",
        "colab_type": "text"
      },
      "source": [
        "## Find character in each words"
      ]
    },
    {
      "cell_type": "code",
      "metadata": {
        "id": "PZT1C-JSCWH4",
        "colab_type": "code",
        "colab": {}
      },
      "source": [
        "import collections \n",
        "def char_arrangement(input_sentence):\n",
        "  cnt = collections.Counter()\n",
        "  for word in input_sentence:\n",
        "    for character in word:\n",
        "      cnt[character] += 1\n",
        "  return cnt"
      ],
      "execution_count": 0,
      "outputs": []
    },
    {
      "cell_type": "code",
      "metadata": {
        "id": "B23ROY1w7KDO",
        "colab_type": "code",
        "colab": {}
      },
      "source": [
        "Malicious_url_domain_count = char_arrangement(Malicious_url_domain)\n",
        "Malicious_url_path_count = char_arrangement(Malicious_url_path)"
      ],
      "execution_count": 0,
      "outputs": []
    },
    {
      "cell_type": "code",
      "metadata": {
        "id": "AQofplvsEJfN",
        "colab_type": "code",
        "colab": {}
      },
      "source": [
        "Benign_url_domain_count = char_arrangement(Benign_url_domain)\n",
        "Benign_url_path_count = char_arrangement(Benign_url_path)"
      ],
      "execution_count": 0,
      "outputs": []
    },
    {
      "cell_type": "markdown",
      "metadata": {
        "id": "ZclhgxbcEhan",
        "colab_type": "text"
      },
      "source": [
        "## Draw Character Distribution"
      ]
    },
    {
      "cell_type": "code",
      "metadata": {
        "id": "OaspkWNlEgor",
        "colab_type": "code",
        "colab": {}
      },
      "source": [
        "import numpy as np\n",
        "import matplotlib.pyplot as plt\n",
        "\n",
        "def Character_Distribution(input_data):\n",
        "  labels = [i for i,j in input_data]\n",
        "  values = [j for i,j in input_data]\n",
        "  #labels, values = zip(*input_data.items())\n",
        "  print(len(labels))\n",
        "  indexes = np.arange(len(labels))\n",
        "  width = 1\n",
        "\n",
        "  plt.figure(figsize=(20,10))\n",
        "  plt.bar(indexes, values, width)\n",
        "  plt.xticks(indexes + width * 0.5, labels)\n",
        "  plt.show()\n",
        "\n",
        "  return labels"
      ],
      "execution_count": 0,
      "outputs": []
    },
    {
      "cell_type": "code",
      "metadata": {
        "id": "JUmELuTxJ6Pb",
        "colab_type": "code",
        "colab": {}
      },
      "source": [
        "Malicious_domain_labels = Character_Distribution(Malicious_url_domain_count.most_common())"
      ],
      "execution_count": 0,
      "outputs": []
    },
    {
      "cell_type": "code",
      "metadata": {
        "id": "tmhhA_yJJ-LG",
        "colab_type": "code",
        "colab": {}
      },
      "source": [
        "Benign_domain_labels = Character_Distribution(Benign_url_domain_count.most_common())"
      ],
      "execution_count": 0,
      "outputs": []
    },
    {
      "cell_type": "code",
      "metadata": {
        "id": "jNUCqdUVP9cj",
        "colab_type": "code",
        "colab": {}
      },
      "source": [
        "Malicious_path_labels = Character_Distribution(Malicious_url_path_count.most_common())"
      ],
      "execution_count": 0,
      "outputs": []
    },
    {
      "cell_type": "code",
      "metadata": {
        "id": "VVSHRJLdPSLJ",
        "colab_type": "code",
        "colab": {}
      },
      "source": [
        "Benign_path_labels = Character_Distribution(Benign_url_path_count.most_common())"
      ],
      "execution_count": 0,
      "outputs": []
    },
    {
      "cell_type": "markdown",
      "metadata": {
        "id": "fc5buUtRke5M",
        "colab_type": "text"
      },
      "source": [
        "## Define New Dictionary"
      ]
    },
    {
      "cell_type": "code",
      "metadata": {
        "id": "HClrCQSIQA8u",
        "colab_type": "code",
        "colab": {}
      },
      "source": [
        "def new_dict(Benign,Malicious):\n",
        "  max_num = max(len(Benign),len(Malicious))\n",
        "  Malicious_array_num = [i for i in range(max_num,max_num-len(Malicious),-1)]\n",
        "  Benign_array_num = [i for i in range(-max_num,-(max_num-len(Benign)),1)]\n",
        "  Benign_dict = zip(Benign,Benign_array_num)\n",
        "  Malicious_dict = zip(Malicious,Malicious_array_num)\n",
        "  Benign_dict = dict(Benign_dict)\n",
        "  Malicious_dict = dict(Malicious_dict)\n",
        "  all_dict = {**Benign_dict, **Malicious_dict}\n",
        "\n",
        "  for key in all_dict: \n",
        "    if key in Benign_dict and key in Malicious_dict: \n",
        "        all_dict[key] = Malicious_dict[key] + Benign_dict[key] \n",
        "    elif key in Benign_dict: \n",
        "        all_dict[key] = Benign_dict[key]\n",
        "    elif key in Malicious_dict: \n",
        "        all_dict[key] = Malicious_dict[key] \n",
        "  return all_dict"
      ],
      "execution_count": 0,
      "outputs": []
    },
    {
      "cell_type": "code",
      "metadata": {
        "id": "JytKR9BtBN_w",
        "colab_type": "code",
        "colab": {}
      },
      "source": [
        "domain_weight_dict = new_dict(Benign_domain_labels,Malicious_domain_labels)"
      ],
      "execution_count": 0,
      "outputs": []
    },
    {
      "cell_type": "code",
      "metadata": {
        "id": "6viClzIXLlEr",
        "colab_type": "code",
        "colab": {}
      },
      "source": [
        "path_weight_dict = new_dict(Benign_path_labels,Malicious_path_labels)"
      ],
      "execution_count": 0,
      "outputs": []
    },
    {
      "cell_type": "code",
      "metadata": {
        "id": "gZ9SSt9YLQti",
        "colab_type": "code",
        "colab": {}
      },
      "source": [
        "len(domain_weight_dict)"
      ],
      "execution_count": 0,
      "outputs": []
    },
    {
      "cell_type": "markdown",
      "metadata": {
        "id": "z-IfUxLKlX_U",
        "colab_type": "text"
      },
      "source": [
        "## Renew Define URL\n",
        "### Add Penalty factor\n"
      ]
    },
    {
      "cell_type": "code",
      "metadata": {
        "id": "mj8p6BDUP0s-",
        "colab_type": "code",
        "colab": {}
      },
      "source": [
        "def compute_weight(input_seq,dict_type):\n",
        "  temp_arr = []\n",
        "  for word in input_seq:\n",
        "    num = 0\n",
        "    for character in word:\n",
        "      num += dict_type[character]\n",
        "    if num == 0 :\n",
        "      temp_arr.append(0)  \n",
        "    else:\n",
        "      #temp_arr.append(num/len(word))\n",
        "      temp_arr.append(num)\n",
        "  return temp_arr"
      ],
      "execution_count": 0,
      "outputs": []
    },
    {
      "cell_type": "code",
      "metadata": {
        "id": "gs4grwQjlnwx",
        "colab_type": "code",
        "colab": {}
      },
      "source": [
        "def compute_url(domain,path):\n",
        "  domain_arr = compute_weight(domain,domain_weight_dict)\n",
        "  path_arr = compute_weight(path,path_weight_dict)\n",
        "  all_arr = [i+j for i,j in zip(domain_arr,path_arr)]\n",
        "  return all_arr"
      ],
      "execution_count": 0,
      "outputs": []
    },
    {
      "cell_type": "code",
      "metadata": {
        "id": "zmaTzwe_RaWE",
        "colab_type": "code",
        "colab": {}
      },
      "source": [
        "a = compute_url(Malicious_url_domain,Malicious_url_path)"
      ],
      "execution_count": 0,
      "outputs": []
    },
    {
      "cell_type": "code",
      "metadata": {
        "id": "Ju7MsVJFR5zX",
        "colab_type": "code",
        "colab": {}
      },
      "source": [
        "sum(a)/len(a)"
      ],
      "execution_count": 0,
      "outputs": []
    },
    {
      "cell_type": "code",
      "metadata": {
        "id": "Y98_Mze-RhGB",
        "colab_type": "code",
        "colab": {}
      },
      "source": [
        "b = compute_url(Benign_url_domain,Benign_url_path)"
      ],
      "execution_count": 0,
      "outputs": []
    },
    {
      "cell_type": "code",
      "metadata": {
        "id": "XhmOHqAQR-V5",
        "colab_type": "code",
        "colab": {}
      },
      "source": [
        "sum(b)/len(b)"
      ],
      "execution_count": 0,
      "outputs": []
    },
    {
      "cell_type": "markdown",
      "metadata": {
        "id": "h0j06r_Ulqwt",
        "colab_type": "text"
      },
      "source": [
        "## Analysis Distribution\n",
        "### overlapping two class\n"
      ]
    },
    {
      "cell_type": "code",
      "metadata": {
        "id": "55fkZR1ll1SC",
        "colab_type": "code",
        "colab": {}
      },
      "source": [
        ""
      ],
      "execution_count": 0,
      "outputs": []
    }
  ]
}