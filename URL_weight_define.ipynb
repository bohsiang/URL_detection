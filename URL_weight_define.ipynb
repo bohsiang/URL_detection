{
  "nbformat": 4,
  "nbformat_minor": 0,
  "metadata": {
    "colab": {
      "name": "URL_weight_define.ipynb",
      "provenance": [],
      "private_outputs": true,
      "collapsed_sections": [],
      "authorship_tag": "ABX9TyMXcQo1+4nVljYdzcOgAZN4",
      "include_colab_link": true
    },
    "kernelspec": {
      "name": "python3",
      "display_name": "Python 3"
    },
    "accelerator": "GPU"
  },
  "cells": [
    {
      "cell_type": "markdown",
      "metadata": {
        "id": "view-in-github",
        "colab_type": "text"
      },
      "source": [
        "<a href=\"https://colab.research.google.com/github/bohsiang/URL_detection/blob/master/URL_weight_define.ipynb\" target=\"_parent\"><img src=\"https://colab.research.google.com/assets/colab-badge.svg\" alt=\"Open In Colab\"/></a>"
      ]
    },
    {
      "cell_type": "code",
      "metadata": {
        "id": "bikT3ivX_8tJ",
        "colab_type": "code",
        "colab": {}
      },
      "source": [
        "from google.colab import drive\n",
        "drive.mount('/content/drive')\n",
        "# login and enter the Authorization code\n",
        "# 登入並且輸入授權碼"
      ],
      "execution_count": 0,
      "outputs": []
    },
    {
      "cell_type": "code",
      "metadata": {
        "id": "zsGqMwewAzgY",
        "colab_type": "code",
        "colab": {}
      },
      "source": [
        "import pandas as pd\n",
        "DATA_FILE ='/content/URL.csv' \n",
        "data_csv = pd.read_csv(DATA_FILE, header=0)"
      ],
      "execution_count": 0,
      "outputs": []
    },
    {
      "cell_type": "code",
      "metadata": {
        "id": "t50tnRmDHFkg",
        "colab_type": "code",
        "colab": {}
      },
      "source": [
        "data_csv"
      ],
      "execution_count": 0,
      "outputs": []
    },
    {
      "cell_type": "markdown",
      "metadata": {
        "id": "duavOhzlUc-s",
        "colab_type": "text"
      },
      "source": [
        "## getting data"
      ]
    },
    {
      "cell_type": "code",
      "metadata": {
        "id": "KSDQHsNbGiRm",
        "colab_type": "code",
        "colab": {}
      },
      "source": [
        "all_data = data_csv.loc[0:, ['URL', 'Label']] "
      ],
      "execution_count": 0,
      "outputs": []
    },
    {
      "cell_type": "code",
      "metadata": {
        "id": "b-EXgjcGGxt2",
        "colab_type": "code",
        "colab": {}
      },
      "source": [
        "all_data['Label'] = [1 if i == \"Malicious\" else -1 for i in all_data['Label']]"
      ],
      "execution_count": 0,
      "outputs": []
    },
    {
      "cell_type": "code",
      "metadata": {
        "id": "b3EqrH6PG9wJ",
        "colab_type": "code",
        "colab": {}
      },
      "source": [
        "Malicious_url = all_data.loc[all_data['Label'] == 1]"
      ],
      "execution_count": 0,
      "outputs": []
    },
    {
      "cell_type": "code",
      "metadata": {
        "id": "WOX_l2DtIuCZ",
        "colab_type": "code",
        "colab": {}
      },
      "source": [
        "Benign_url = all_data.loc[all_data['Label'] == -1]"
      ],
      "execution_count": 0,
      "outputs": []
    },
    {
      "cell_type": "markdown",
      "metadata": {
        "id": "acAKx3gnUnEt",
        "colab_type": "text"
      },
      "source": [
        "## split domain and path"
      ]
    },
    {
      "cell_type": "code",
      "metadata": {
        "id": "HIc7IY1rI8Kt",
        "colab_type": "code",
        "colab": {}
      },
      "source": [
        "def split_function(url):\n",
        "  temp_domain = [i.split(\"/\",3)[2] for i in url['URL']]\n",
        "  temp_path = [i.split(\"/\",3)[3] if len(i.split(\"/\",3)) > 3 else \"\" for i in url['URL']]\n",
        "  return temp_domain,temp_path"
      ],
      "execution_count": 0,
      "outputs": []
    },
    {
      "cell_type": "code",
      "metadata": {
        "id": "Njkt7YbcNs_l",
        "colab_type": "code",
        "colab": {}
      },
      "source": [
        "Benign_url_domain,Benign_url_path = split_function(Benign_url)"
      ],
      "execution_count": 0,
      "outputs": []
    },
    {
      "cell_type": "code",
      "metadata": {
        "id": "HU4-RmWnN9VX",
        "colab_type": "code",
        "colab": {}
      },
      "source": [
        "Malicious_url_domain,Malicious_url_path = split_function(Malicious_url)"
      ],
      "execution_count": 0,
      "outputs": []
    },
    {
      "cell_type": "markdown",
      "metadata": {
        "id": "pTt5rRsYCWrv",
        "colab_type": "text"
      },
      "source": [
        "## Find character in each words"
      ]
    },
    {
      "cell_type": "code",
      "metadata": {
        "id": "PZT1C-JSCWH4",
        "colab_type": "code",
        "colab": {}
      },
      "source": [
        "import collections \n",
        "def char_arrangement(input_sentence):\n",
        "  cnt = collections.Counter()\n",
        "  for word in input_sentence:\n",
        "    for character in word:\n",
        "      cnt[character] += 1\n",
        "  return cnt"
      ],
      "execution_count": 0,
      "outputs": []
    },
    {
      "cell_type": "code",
      "metadata": {
        "id": "B23ROY1w7KDO",
        "colab_type": "code",
        "colab": {}
      },
      "source": [
        "Malicious_url_domain_count = char_arrangement(Malicious_url_domain)\n",
        "Malicious_url_path_count = char_arrangement(Malicious_url_path)"
      ],
      "execution_count": 0,
      "outputs": []
    },
    {
      "cell_type": "code",
      "metadata": {
        "id": "AQofplvsEJfN",
        "colab_type": "code",
        "colab": {}
      },
      "source": [
        "Benign_url_domain_count = char_arrangement(Benign_url_domain)\n",
        "Benign_url_path_count = char_arrangement(Benign_url_path)"
      ],
      "execution_count": 0,
      "outputs": []
    },
    {
      "cell_type": "markdown",
      "metadata": {
        "id": "ZclhgxbcEhan",
        "colab_type": "text"
      },
      "source": [
        "## Draw Character Distribution"
      ]
    },
    {
      "cell_type": "code",
      "metadata": {
        "id": "OaspkWNlEgor",
        "colab_type": "code",
        "colab": {}
      },
      "source": [
        "import numpy as np\n",
        "import matplotlib.pyplot as plt\n",
        "\n",
        "def Character_Distribution(input_data):\n",
        "  labels = [i for i,j in input_data]\n",
        "  values = [j for i,j in input_data]\n",
        "  #labels, values = zip(*input_data.items())\n",
        "  print(len(labels))\n",
        "  indexes = np.arange(len(labels))\n",
        "  width = 1\n",
        "\n",
        "  plt.figure(figsize=(20,10))\n",
        "  plt.bar(indexes, values, width)\n",
        "  plt.xticks(indexes + width * 0.5, labels)\n",
        "  plt.show()"
      ],
      "execution_count": 0,
      "outputs": []
    },
    {
      "cell_type": "code",
      "metadata": {
        "id": "JUmELuTxJ6Pb",
        "colab_type": "code",
        "colab": {}
      },
      "source": [
        "Character_Distribution(Malicious_url_domain_count.most_common())"
      ],
      "execution_count": 0,
      "outputs": []
    },
    {
      "cell_type": "code",
      "metadata": {
        "id": "jNUCqdUVP9cj",
        "colab_type": "code",
        "colab": {}
      },
      "source": [
        "Character_Distribution(Malicious_url_path_count.most_common())"
      ],
      "execution_count": 0,
      "outputs": []
    },
    {
      "cell_type": "code",
      "metadata": {
        "id": "tmhhA_yJJ-LG",
        "colab_type": "code",
        "colab": {}
      },
      "source": [
        "Character_Distribution(Benign_url_domain_count.most_common())"
      ],
      "execution_count": 0,
      "outputs": []
    },
    {
      "cell_type": "code",
      "metadata": {
        "id": "VVSHRJLdPSLJ",
        "colab_type": "code",
        "colab": {}
      },
      "source": [
        "Character_Distribution(Benign_url_path_count.most_common())"
      ],
      "execution_count": 0,
      "outputs": []
    },
    {
      "cell_type": "code",
      "metadata": {
        "id": "HClrCQSIQA8u",
        "colab_type": "code",
        "colab": {}
      },
      "source": [
        ""
      ],
      "execution_count": 0,
      "outputs": []
    }
  ]
}